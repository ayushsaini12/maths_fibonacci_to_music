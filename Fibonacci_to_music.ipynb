{
  "cells": [
    {
      "cell_type": "code",
      "execution_count": null,
      "metadata": {
        "colab": {
          "base_uri": "https://localhost:8080/"
        },
        "id": "ccllus9DUSKE",
        "outputId": "7a8ba22c-b713-4fe9-de63-d0d1e726f88a"
      },
      "outputs": [
        {
          "name": "stdout",
          "output_type": "stream",
          "text": [
            "Collecting MIDIUtil\n",
            "  Downloading MIDIUtil-1.2.1.tar.gz (1.0 MB)\n",
            "\u001b[2K     \u001b[90m━━━━━━━━━━━━━━━━━━━━━━━━━━━━━━━━━━━━━━━━\u001b[0m \u001b[32m1.0/1.0 MB\u001b[0m \u001b[31m12.2 MB/s\u001b[0m eta \u001b[36m0:00:00\u001b[0m\n",
            "\u001b[?25h  Preparing metadata (setup.py) ... \u001b[?25l\u001b[?25hdone\n",
            "Building wheels for collected packages: MIDIUtil\n",
            "  Building wheel for MIDIUtil (setup.py) ... \u001b[?25l\u001b[?25hdone\n",
            "  Created wheel for MIDIUtil: filename=MIDIUtil-1.2.1-py3-none-any.whl size=54568 sha256=bf32dfd03e0071e92e4d92d597f8a5af5c818ae0e4e91c8d625906c1a21bcf8e\n",
            "  Stored in directory: /root/.cache/pip/wheels/af/43/4a/00b5e4f2fe5e2cd6e92b461995a3a97a2cebb30ab5783501b0\n",
            "Successfully built MIDIUtil\n",
            "Installing collected packages: MIDIUtil\n",
            "Successfully installed MIDIUtil-1.2.1\n"
          ]
        }
      ],
      "source": [
        "%pip install MIDIUtil\n"
      ]
    },
    {
      "cell_type": "code",
      "execution_count": null,
      "metadata": {
        "colab": {
          "base_uri": "https://localhost:8080/"
        },
        "id": "eXxiLS0oUTzD",
        "outputId": "3b242285-5fc2-45c4-e069-3c87764febfd"
      },
      "outputs": [
        {
          "name": "stdout",
          "output_type": "stream",
          "text": [
            "MIDI file 'fibonacci_melody2.mid' has been created\n"
          ]
        }
      ],
      "source": [
        "from midiutil import MIDIFile\n",
        "\n",
        "def generate_fibonacci_sequence(n):\n",
        "    \"\"\" Generate Fibonacci sequence up to the nth number \"\"\"\n",
        "    sequence = [0, 1]\n",
        "    while len(sequence) < n:\n",
        "        sequence.append(sequence[-1] + sequence[-2])\n",
        "    return sequence\n",
        "\n",
        "def fibonacci_to_pitch(sequence, base_pitch=70):\n",
        "    \"\"\" Map Fibonacci numbers to MIDI pitches \"\"\"\n",
        "    # Using modulo to keep pitches within a reasonable range\n",
        "    return [(base_pitch + number % 12) for number in sequence]\n",
        "\n",
        "def create_midi_file(pitches, filename=\"fibonacci_melody2.mid\"):\n",
        "    \"\"\" Create a simple MIDI file with the given pitches \"\"\"\n",
        "    track    = 0\n",
        "    channel  = 0\n",
        "    time     = 0    # In beats\n",
        "    duration = 1    # In beats\n",
        "    tempo    = 60   # In BPM\n",
        "    volume   = 100  # 0-127, as per the MIDI standard\n",
        "\n",
        "    midi = MIDIFile(1)  # One track\n",
        "    midi.addTempo(track, time, tempo)\n",
        "\n",
        "    for pitch in pitches:\n",
        "        midi.addNote(track, channel, pitch, time, duration, volume)\n",
        "        time += duration\n",
        "\n",
        "    with open(filename, \"wb\") as output_file:\n",
        "        midi.writeFile(output_file)\n",
        "\n",
        "    print(f\"MIDI file '{filename}' has been created\")\n",
        "\n",
        "# Generate a Fibonacci sequence\n",
        "fib_sequence = generate_fibonacci_sequence(10)  # Generate first 10 numbers\n",
        "pitch_sequence = fibonacci_to_pitch(fib_sequence)\n",
        "\n",
        "# Create a MIDI file with the Fibonacci-based melody\n",
        "create_midi_file(pitch_sequence)\n"
      ]
    },
    {
      "cell_type": "code",
      "execution_count": null,
      "metadata": {
        "colab": {
          "base_uri": "https://localhost:8080/"
        },
        "id": "ERohk8_UVMQK",
        "outputId": "cfd22ea3-f7ff-4ff5-a827-cbab79317511"
      },
      "outputs": [
        {
          "name": "stdout",
          "output_type": "stream",
          "text": [
            "MIDI file 'fibonacci_dynamics.mid' has been created\n"
          ]
        }
      ],
      "source": [
        "from midiutil import MIDIFile\n",
        "\n",
        "def generate_fibonacci_sequence(n):\n",
        "    \"\"\" Generate Fibonacci sequence up to the nth number \"\"\"\n",
        "    sequence = [0, 1]\n",
        "    while len(sequence) < n:\n",
        "        sequence.append(sequence[-1] + sequence[-2])\n",
        "    return sequence\n",
        "\n",
        "def fibonacci_to_pitch(sequence, base_pitch=60):\n",
        "    \"\"\" Map Fibonacci numbers to MIDI pitches \"\"\"\n",
        "    return [(base_pitch + number % 12) for number in sequence]\n",
        "\n",
        "def fibonacci_to_volume(sequence, max_volume=127):\n",
        "    \"\"\" Map Fibonacci numbers to volume (dynamics) \"\"\"\n",
        "    max_fib = max(sequence)\n",
        "    return [int((number / max_fib) * max_volume) for number in sequence]\n",
        "\n",
        "def create_midi_file(pitches, volumes, filename=\"fibonacci_dynamics.mid\"):\n",
        "    \"\"\" Create a MIDI file with the given pitches and volumes \"\"\"\n",
        "    track    = 0\n",
        "    channel  = 0\n",
        "    time     = 0    # In beats\n",
        "    duration = 1    # In beats\n",
        "    tempo    = 60   # In BPM\n",
        "\n",
        "    midi = MIDIFile(1)  # One track\n",
        "    midi.addTempo(track, time, tempo)\n",
        "\n",
        "    for pitch, volume in zip(pitches, volumes):\n",
        "        midi.addNote(track, channel, pitch, time, duration, volume)\n",
        "        time += duration\n",
        "\n",
        "    with open(filename, \"wb\") as output_file:\n",
        "        midi.writeFile(output_file)\n",
        "\n",
        "    print(f\"MIDI file '{filename}' has been created\")\n",
        "\n",
        "# Generate a Fibonacci sequence\n",
        "fib_sequence = generate_fibonacci_sequence(10)  # Generate first 10 numbers\n",
        "pitch_sequence = fibonacci_to_pitch(fib_sequence)\n",
        "volume_sequence = fibonacci_to_volume(fib_sequence)\n",
        "\n",
        "# Create a MIDI file with the Fibonacci-based melody and dynamics\n",
        "create_midi_file(pitch_sequence, volume_sequence)\n"
      ]
    },
    {
      "cell_type": "code",
      "execution_count": null,
      "metadata": {
        "colab": {
          "base_uri": "https://localhost:8080/"
        },
        "id": "TpWrnP4eACDI",
        "outputId": "de3606e1-d6e1-4a9a-ba31-073678fa0ba2"
      },
      "outputs": [
        {
          "name": "stdout",
          "output_type": "stream",
          "text": [
            "MIDI file 'fibonacci_voices.mid' has been created\n"
          ]
        }
      ],
      "source": [
        "from midiutil import MIDIFile\n",
        "\n",
        "def generate_fibonacci_sequence(n):\n",
        "    \"\"\" Generate Fibonacci sequence up to the nth number \"\"\"\n",
        "    sequence = [0, 1]\n",
        "    while len(sequence) < n:\n",
        "        sequence.append(sequence[-1] + sequence[-2])\n",
        "    return sequence\n",
        "\n",
        "def fibonacci_to_pitch(sequence, base_pitch=60):\n",
        "    \"\"\" Map Fibonacci numbers to MIDI pitches \"\"\"\n",
        "    return [(base_pitch + number % 12) for number in sequence]\n",
        "\n",
        "def create_multi_voice_midi(fib_sequence, num_voices=3, filename=\"fibonacci_voices.mid\"):\n",
        "    \"\"\" Create a multi-voice MIDI file based on Fibonacci sequence \"\"\"\n",
        "    midi = MIDIFile(num_voices)  # Number of tracks\n",
        "    tempo = 60   # In BPM\n",
        "    volume = 100  # 0-127, as per the MIDI standard\n",
        "\n",
        "    for voice in range(num_voices):\n",
        "        track = voice\n",
        "        time = 0  # In beats\n",
        "        midi.addTempo(track, time, tempo)\n",
        "\n",
        "        # Offset each voice by a different start point in the Fibonacci sequence\n",
        "        start_point = voice * 2  # Offset by 2 notes for each voice\n",
        "        pitch_sequence = fibonacci_to_pitch(fib_sequence[start_point:])\n",
        "\n",
        "        for pitch in pitch_sequence:\n",
        "            duration = 1  # In beats, can be varied as per Fibonacci sequence for complexity\n",
        "            midi.addNote(track, voice, pitch, time, duration, volume)\n",
        "            time += duration\n",
        "\n",
        "    with open(filename, \"wb\") as output_file:\n",
        "        midi.writeFile(output_file)\n",
        "\n",
        "    print(f\"MIDI file '{filename}' has been created\")\n",
        "\n",
        "# Generate a Fibonacci sequence\n",
        "fib_sequence = generate_fibonacci_sequence(20)  # Generate first 20 numbers for more variety\n",
        "\n",
        "# Create a MIDI file with multiple Fibonacci-based voices\n",
        "create_multi_voice_midi(fib_sequence)\n"
      ]
    },
    {
      "cell_type": "code",
      "execution_count": null,
      "metadata": {
        "colab": {
          "base_uri": "https://localhost:8080/"
        },
        "id": "F98HhjXsAkgu",
        "outputId": "990a3a32-474b-4c89-d245-8a815b2cafad"
      },
      "outputs": [
        {
          "name": "stdout",
          "output_type": "stream",
          "text": [
            "MIDI file 'fibonacci_melody_and_harmony.mid' has been created\n"
          ]
        }
      ],
      "source": [
        "from midiutil import MIDIFile\n",
        "\n",
        "def generate_fibonacci_sequence(n):\n",
        "    \"\"\" Generate Fibonacci sequence up to the nth number \"\"\"\n",
        "    sequence = [0, 1]\n",
        "    while len(sequence) < n:\n",
        "        sequence.append(sequence[-1] + sequence[-2])\n",
        "    return sequence\n",
        "\n",
        "def fibonacci_to_pitch(sequence, base_pitch=60):\n",
        "    \"\"\" Map Fibonacci numbers to MIDI pitches \"\"\"\n",
        "    return [(base_pitch + number % 12) for number in sequence]\n",
        "\n",
        "def add_chords(midi, track, fib_sequence, base_chord=60, time=0, duration=1, volume=100):\n",
        "    \"\"\" Add chords based on Fibonacci sequence to the MIDI track \"\"\"\n",
        "    for number in fib_sequence:\n",
        "        # Root note of the chord\n",
        "        root_note = (base_chord + number % 12)\n",
        "        # Simple triad chord (root, major third, perfect fifth)\n",
        "        chord_notes = [root_note, root_note + 4, root_note + 7]\n",
        "        for note in chord_notes:\n",
        "            midi.addNote(track, 1, note, time, duration, volume)\n",
        "        time += duration\n",
        "\n",
        "def create_midi_with_harmony(fib_sequence, filename=\"fibonacci_melody_and_harmony.mid\"):\n",
        "    \"\"\" Create a MIDI file with melody and harmony based on Fibonacci sequence \"\"\"\n",
        "    num_tracks = 2  # One for melody, one for harmony\n",
        "    tempo = 60  # In BPM\n",
        "    volume = 100  # 0-127, as per the MIDI standard\n",
        "\n",
        "    midi = MIDIFile(num_tracks)\n",
        "    midi.addTempo(0, 0, tempo)\n",
        "    midi.addTempo(1, 0, tempo)\n",
        "\n",
        "    # Melody track\n",
        "    pitch_sequence = fibonacci_to_pitch(fib_sequence)\n",
        "    for i, pitch in enumerate(pitch_sequence):\n",
        "        duration = 1  # In beats\n",
        "        midi.addNote(0, 0, pitch, i, duration, volume)\n",
        "\n",
        "    # Harmony track\n",
        "    add_chords(midi, 1, fib_sequence, base_chord=48)  # Lower base chord for harmony\n",
        "\n",
        "    with open(filename, \"wb\") as output_file:\n",
        "        midi.writeFile(output_file)\n",
        "\n",
        "    print(f\"MIDI file '{filename}' has been created\")\n",
        "\n",
        "# Generate a Fibonacci sequence\n",
        "fib_sequence = generate_fibonacci_sequence(16)  # Generate first 16 numbers for melody and harmony\n",
        "\n",
        "# Create a MIDI file with Fibonacci-based melody and harmony\n",
        "create_midi_with_harmony(fib_sequence)\n"
      ]
    },
    {
      "cell_type": "code",
      "execution_count": null,
      "metadata": {
        "id": "NOGdtmn9Bc5E"
      },
      "outputs": [],
      "source": [
        "def create_multi_voice_midi_withharmony(fib_sequence, num_voices=3, filename=\"fibonacci_melody_and_harmony.mid\"):\n",
        "    \"\"\" Create a multi-voice MIDI file based on Fibonacci sequence \"\"\"\n",
        "    midi = MIDIFile(num_voices)  # Number of tracks\n",
        "    tempo = 60   # In BPM\n",
        "    volume = 100  # 0-127, as per the MIDI standard\n",
        "\n",
        "    for voice in range(num_voices):\n",
        "        track = voice\n",
        "        time = 0  # In beats\n",
        "        midi.addTempo(track, time, tempo)\n",
        "\n",
        "        # Offset each voice by a different start point in the Fibonacci sequence\n",
        "        start_point = voice * 2  # Offset by 2 notes for each voice\n",
        "        pitch_sequence = fibonacci_to_pitch(fib_sequence[start_point:])\n",
        "\n",
        "        for pitch in pitch_sequence:\n",
        "            duration = 1  # In beats, can be varied as per Fibonacci sequence for complexity\n",
        "            midi.addNote(track, voice, pitch, time, duration, volume)\n",
        "            time += duration\n",
        "\n",
        "    with open(filename, \"wb\") as output_file:\n",
        "        midi.writeFile(output_file)\n",
        "\n",
        "    print(f\"MIDI file '{filename}' has been created\")"
      ]
    },
    {
      "cell_type": "code",
      "execution_count": null,
      "metadata": {
        "colab": {
          "base_uri": "https://localhost:8080/"
        },
        "id": "89WLUfDHCHln",
        "outputId": "7a8913b5-e0b9-42f6-98f1-51f01dedf806"
      },
      "outputs": [
        {
          "name": "stdout",
          "output_type": "stream",
          "text": [
            "MIDI file 'fibonacci_multi_voice.mid' has been created\n"
          ]
        }
      ],
      "source": [
        "from midiutil import MIDIFile\n",
        "\n",
        "def generate_fibonacci_sequence(n):\n",
        "    \"\"\" Generate Fibonacci sequence up to the nth number \"\"\"\n",
        "    sequence = [0, 1]\n",
        "    while len(sequence) < n:\n",
        "        sequence.append(sequence[-1] + sequence[-2])\n",
        "    return sequence\n",
        "\n",
        "def fibonacci_to_pitch(sequence, base_pitch=60):\n",
        "    \"\"\" Map Fibonacci numbers to MIDI pitches \"\"\"\n",
        "    return [(base_pitch + number % 12) for number in sequence]\n",
        "\n",
        "def fibonacci_to_volume(sequence, max_volume=127):\n",
        "    \"\"\" Map Fibonacci numbers to volume levels \"\"\"\n",
        "    max_fib = max(sequence)\n",
        "    return [int((number / max_fib) * max_volume) for number in sequence]\n",
        "\n",
        "def add_chords(midi, track, fib_sequence, base_chord=60, start_time=0, duration=1, volume=100):\n",
        "    \"\"\" Add chords based on Fibonacci sequence to the MIDI track \"\"\"\n",
        "    time = start_time\n",
        "    for number in fib_sequence:\n",
        "        root_note = (base_chord + number % 12)\n",
        "        chord_notes = [root_note, root_note + 4, root_note + 7]  # Triad chord\n",
        "        for note in chord_notes:\n",
        "            midi.addNote(track, track, note, time, duration, volume)\n",
        "        time += duration\n",
        "\n",
        "def create_multi_voice_midi(fib_sequence, num_voices=3, filename=\"fibonacci_multi_voice.mid\"):\n",
        "    \"\"\" Create a multi-voice MIDI file with melody, harmony, and dynamics \"\"\"\n",
        "    midi = MIDIFile(num_voices)\n",
        "    tempo = 60  # BPM\n",
        "    base_chord = 48  # Lower pitch for harmony\n",
        "\n",
        "    for voice in range(num_voices):\n",
        "        midi.addTempo(voice, 0, tempo)\n",
        "        start_point = voice * 2  # Offset for each voice\n",
        "        pitch_sequence = fibonacci_to_pitch(fib_sequence[start_point:])\n",
        "        volume_sequence = fibonacci_to_volume(fib_sequence)\n",
        "\n",
        "        # Melody with dynamics\n",
        "        time = 0\n",
        "        for pitch, volume in zip(pitch_sequence, volume_sequence):\n",
        "            midi.addNote(voice, voice, pitch, time, 1, volume)\n",
        "            time += 1\n",
        "\n",
        "        # Harmony\n",
        "        add_chords(midi, voice, fib_sequence, base_chord=base_chord, start_time=0)\n",
        "\n",
        "    with open(filename, \"wb\") as output_file:\n",
        "        midi.writeFile(output_file)\n",
        "\n",
        "    print(f\"MIDI file '{filename}' has been created\")\n",
        "\n",
        "# Generate a Fibonacci sequence\n",
        "fib_sequence = generate_fibonacci_sequence(30)  # Sufficiently long for multiple voices\n",
        "\n",
        "# Create a multi-voice MIDI file\n",
        "create_multi_voice_midi(fib_sequence)\n"
      ]
    },
    {
      "cell_type": "code",
      "execution_count": null,
      "metadata": {
        "colab": {
          "base_uri": "https://localhost:8080/"
        },
        "id": "He1Wf4YLDIuS",
        "outputId": "62d1b25b-4c57-4ab7-d601-c05fcf60255d"
      },
      "outputs": [
        {
          "name": "stdout",
          "output_type": "stream",
          "text": [
            "MIDI file 'fibonacci_rhythm.mid' has been created\n"
          ]
        }
      ],
      "source": [
        "from midiutil import MIDIFile\n",
        "\n",
        "def generate_fibonacci_sequence(n):\n",
        "    \"\"\" Generate Fibonacci sequence up to the nth number \"\"\"\n",
        "    sequence = [0, 1]\n",
        "    while len(sequence) < n:\n",
        "        sequence.append(sequence[-1] + sequence[-2])\n",
        "    return sequence\n",
        "\n",
        "def fibonacci_to_pitch(sequence, base_pitch=60):\n",
        "    \"\"\" Map Fibonacci numbers to MIDI pitches \"\"\"\n",
        "    return [(base_pitch + number % 12) for number in sequence]\n",
        "\n",
        "def fibonacci_to_rhythm(sequence):\n",
        "    \"\"\" Map Fibonacci numbers to rhythmic values (note durations) \"\"\"\n",
        "    # Using a minimum duration of 1/4 beat to ensure audibility\n",
        "    return [max(1, number / 3) for number in sequence]\n",
        "\n",
        "def create_midi_with_fibonacci_rhythm(fib_sequence, filename=\"fibonacci_rhythm.mid\"):\n",
        "    \"\"\" Create a MIDI file with melody based on Fibonacci rhythm \"\"\"\n",
        "    track = 0\n",
        "    channel = 0\n",
        "    tempo = 120  # BPM\n",
        "    volume = 100  # 0-127, as per the MIDI standard\n",
        "\n",
        "    midi = MIDIFile(1)\n",
        "    midi.addTempo(track, 0, tempo)\n",
        "\n",
        "    pitch_sequence = fibonacci_to_pitch(fib_sequence)\n",
        "    rhythm_sequence = fibonacci_to_rhythm(fib_sequence)\n",
        "\n",
        "    time = 0  # Start time for the first note\n",
        "    for pitch, duration in zip(pitch_sequence, rhythm_sequence):\n",
        "        midi.addNote(track, channel, pitch, time, duration, volume)\n",
        "        time += duration  # Move time forward by the duration of the note\n",
        "\n",
        "    with open(filename, \"wb\") as output_file:\n",
        "        midi.writeFile(output_file)\n",
        "\n",
        "    print(f\"MIDI file '{filename}' has been created\")\n",
        "\n",
        "# Generate a Fibonacci sequence\n",
        "fib_sequence = generate_fibonacci_sequence(5)  # A sequence of 5 numbers for variety\n",
        "\n",
        "# Create a MIDI file with a Fibonacci-based rhythmic pattern\n",
        "create_midi_with_fibonacci_rhythm(fib_sequence)\n"
      ]
    }
  ],
  "metadata": {
    "colab": {
      "provenance": []
    },
    "kernelspec": {
      "display_name": "Python 3",
      "name": "python3"
    },
    "language_info": {
      "name": "python"
    }
  },
  "nbformat": 4,
  "nbformat_minor": 0
}
